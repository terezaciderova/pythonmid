{
 "cells": [
  {
   "cell_type": "code",
   "execution_count": 11,
   "id": "a5b5b071",
   "metadata": {},
   "outputs": [],
   "source": [
    "%matplotlib inline\n",
    "import matplotlib.pyplot as plt\n",
    "\n",
    "import requests\n",
    "import json\n",
    "\n",
    "import os\n",
    "import pandas as pd\n",
    "import numpy as np\n",
    "\n",
    "from IPython.core.display import HTML, display"
   ]
  },
  {
   "cell_type": "code",
   "execution_count": 13,
   "id": "8b97c31e",
   "metadata": {},
   "outputs": [
    {
     "name": "stdout",
     "output_type": "stream",
     "text": [
      "{\"data\": {\"personal_code\": \"ba349afe\", \"dataset_ids\": [\"557b58dd1d\", \"fc1e690fcf\", \"f561ba0da6\", \"8f8c9919a6\", \"0a42bff0a1\", \"5aa21103e8\", \"86c214b421\"]}, \"message\": \"Hello, \\u010ciderov\\u00e1 Tereza! Good luck with the midterm. GET your data set from /data/file_id endpoint; use the codes you received in the data response as the file_id parameter! Print the personal code in your notebook.\"}\n"
     ]
    }
   ],
   "source": [
    "url = \"https://ies-midterm.soulution.rocks/login\"\n",
    "login= {'cuni' : '96230772'}\n",
    "x = requests.post('https://ies-midterm.soulution.rocks/login',json= login)\n",
    "print(x.text)"
   ]
  },
  {
   "cell_type": "code",
   "execution_count": 14,
   "id": "bc982119",
   "metadata": {},
   "outputs": [
    {
     "name": "stdout",
     "output_type": "stream",
     "text": [
      "ba349afe\n"
     ]
    }
   ],
   "source": [
    "personal_code= 'ba349afe'\n",
    "dataset_ids= [\"557b58dd1d\", \"fc1e690fcf\", \"f561ba0da6\", \"8f8c9919a6\", \"0a42bff0a1\", \"5aa21103e8\", \"86c214b421\"]\n",
    "print(personal_code)"
   ]
  },
  {
   "cell_type": "code",
   "execution_count": null,
   "id": "067cf11c",
   "metadata": {},
   "outputs": [],
   "source": [
    "request1= requests.get(\"url\")\n",
    "request1\n",
    "list_of_responses = []\n",
    "list_of_status_codes = []\n",
    "\n",
    "while np.mean(list_of_status_codes)!=200:\n",
    "    list_of_responses = []\n",
    "    list_of_status_codes = []\n",
    "    for i in list_of_ids:\n",
    "        list_of_responses.append(requests.get(f\"link/data/{i}\"))\n",
    "    for b in list_of_responses:\n",
    "        list_of_status_codes.append(b.status_code)\n",
    "    print(np.mean(list_of_status_codes)!=200)\n",
    "    print(list_of_status_codes)\n",
    "    list_of_responses\n",
    "#won't work"
   ]
  },
  {
   "cell_type": "code",
   "execution_count": null,
   "id": "158a455c",
   "metadata": {},
   "outputs": [],
   "source": []
  },
  {
   "cell_type": "code",
   "execution_count": null,
   "id": "733ed456",
   "metadata": {},
   "outputs": [],
   "source": [
    "#second part"
   ]
  },
  {
   "cell_type": "code",
   "execution_count": 16,
   "id": "16f0dbb2",
   "metadata": {},
   "outputs": [],
   "source": [
    "link =  \"https://ies-midterm.soulution.rocks/saveme\""
   ]
  },
  {
   "cell_type": "code",
   "execution_count": 19,
   "id": "73174663",
   "metadata": {},
   "outputs": [
    {
     "data": {
      "text/plain": [
       "200"
      ]
     },
     "execution_count": 19,
     "metadata": {},
     "output_type": "execute_result"
    }
   ],
   "source": [
    "r = requests.post(link, json = login)\n",
    "r.status_code\n"
   ]
  },
  {
   "cell_type": "code",
   "execution_count": 20,
   "id": "c7c487d8",
   "metadata": {},
   "outputs": [
    {
     "data": {
      "text/plain": [
       "'{\"data\": {}, \"message\": \"DO NOT SHARE THE DATASET WITH ANYONE! Download manually the following file which contains the data: https://ies-python-midterm.s3.eu-central-1.amazonaws.com/sos.zip\"}'"
      ]
     },
     "execution_count": 20,
     "metadata": {},
     "output_type": "execute_result"
    }
   ],
   "source": [
    "r.text"
   ]
  },
  {
   "cell_type": "code",
   "execution_count": 27,
   "id": "8f921228",
   "metadata": {},
   "outputs": [
    {
     "data": {
      "text/html": [
       "<div>\n",
       "<style scoped>\n",
       "    .dataframe tbody tr th:only-of-type {\n",
       "        vertical-align: middle;\n",
       "    }\n",
       "\n",
       "    .dataframe tbody tr th {\n",
       "        vertical-align: top;\n",
       "    }\n",
       "\n",
       "    .dataframe thead th {\n",
       "        text-align: right;\n",
       "    }\n",
       "</style>\n",
       "<table border=\"1\" class=\"dataframe\">\n",
       "  <thead>\n",
       "    <tr style=\"text-align: right;\">\n",
       "      <th></th>\n",
       "      <th>Open</th>\n",
       "      <th>High</th>\n",
       "      <th>Low</th>\n",
       "      <th>Close</th>\n",
       "      <th>Adj Close</th>\n",
       "      <th>Volume</th>\n",
       "    </tr>\n",
       "    <tr>\n",
       "      <th>Date</th>\n",
       "      <th></th>\n",
       "      <th></th>\n",
       "      <th></th>\n",
       "      <th></th>\n",
       "      <th></th>\n",
       "      <th></th>\n",
       "    </tr>\n",
       "  </thead>\n",
       "  <tbody>\n",
       "    <tr>\n",
       "      <th>2019-01-02</th>\n",
       "      <td>70.110001</td>\n",
       "      <td>74.230003</td>\n",
       "      <td>69.980003</td>\n",
       "      <td>73.839996</td>\n",
       "      <td>69.908577</td>\n",
       "      <td>725100</td>\n",
       "    </tr>\n",
       "    <tr>\n",
       "      <th>2019-01-03</th>\n",
       "      <td>73.379997</td>\n",
       "      <td>75.589996</td>\n",
       "      <td>72.930000</td>\n",
       "      <td>73.669998</td>\n",
       "      <td>69.747620</td>\n",
       "      <td>790200</td>\n",
       "    </tr>\n",
       "    <tr>\n",
       "      <th>2019-01-04</th>\n",
       "      <td>74.800003</td>\n",
       "      <td>76.860001</td>\n",
       "      <td>74.599998</td>\n",
       "      <td>76.440002</td>\n",
       "      <td>72.370148</td>\n",
       "      <td>607900</td>\n",
       "    </tr>\n",
       "    <tr>\n",
       "      <th>2019-01-07</th>\n",
       "      <td>74.449997</td>\n",
       "      <td>76.260002</td>\n",
       "      <td>73.150002</td>\n",
       "      <td>75.010002</td>\n",
       "      <td>71.016281</td>\n",
       "      <td>783700</td>\n",
       "    </tr>\n",
       "    <tr>\n",
       "      <th>2019-01-08</th>\n",
       "      <td>76.500000</td>\n",
       "      <td>77.589996</td>\n",
       "      <td>74.889999</td>\n",
       "      <td>77.150002</td>\n",
       "      <td>73.042351</td>\n",
       "      <td>771300</td>\n",
       "    </tr>\n",
       "    <tr>\n",
       "      <th>...</th>\n",
       "      <td>...</td>\n",
       "      <td>...</td>\n",
       "      <td>...</td>\n",
       "      <td>...</td>\n",
       "      <td>...</td>\n",
       "      <td>...</td>\n",
       "    </tr>\n",
       "    <tr>\n",
       "      <th>2020-11-16</th>\n",
       "      <td>89.290001</td>\n",
       "      <td>89.610001</td>\n",
       "      <td>86.919998</td>\n",
       "      <td>88.690002</td>\n",
       "      <td>88.690002</td>\n",
       "      <td>370900</td>\n",
       "    </tr>\n",
       "    <tr>\n",
       "      <th>2020-11-17</th>\n",
       "      <td>87.879997</td>\n",
       "      <td>89.550003</td>\n",
       "      <td>87.570000</td>\n",
       "      <td>88.839996</td>\n",
       "      <td>88.839996</td>\n",
       "      <td>309400</td>\n",
       "    </tr>\n",
       "    <tr>\n",
       "      <th>2020-11-18</th>\n",
       "      <td>89.180000</td>\n",
       "      <td>90.690002</td>\n",
       "      <td>88.279999</td>\n",
       "      <td>88.309998</td>\n",
       "      <td>88.309998</td>\n",
       "      <td>334200</td>\n",
       "    </tr>\n",
       "    <tr>\n",
       "      <th>2020-11-19</th>\n",
       "      <td>87.820000</td>\n",
       "      <td>88.550003</td>\n",
       "      <td>87.250000</td>\n",
       "      <td>88.489998</td>\n",
       "      <td>88.489998</td>\n",
       "      <td>166300</td>\n",
       "    </tr>\n",
       "    <tr>\n",
       "      <th>2020-11-20</th>\n",
       "      <td>87.980003</td>\n",
       "      <td>88.570000</td>\n",
       "      <td>87.160004</td>\n",
       "      <td>88.309998</td>\n",
       "      <td>88.309998</td>\n",
       "      <td>196500</td>\n",
       "    </tr>\n",
       "  </tbody>\n",
       "</table>\n",
       "<p>478 rows × 6 columns</p>\n",
       "</div>"
      ],
      "text/plain": [
       "                 Open       High        Low      Close  Adj Close  Volume\n",
       "Date                                                                     \n",
       "2019-01-02  70.110001  74.230003  69.980003  73.839996  69.908577  725100\n",
       "2019-01-03  73.379997  75.589996  72.930000  73.669998  69.747620  790200\n",
       "2019-01-04  74.800003  76.860001  74.599998  76.440002  72.370148  607900\n",
       "2019-01-07  74.449997  76.260002  73.150002  75.010002  71.016281  783700\n",
       "2019-01-08  76.500000  77.589996  74.889999  77.150002  73.042351  771300\n",
       "...               ...        ...        ...        ...        ...     ...\n",
       "2020-11-16  89.290001  89.610001  86.919998  88.690002  88.690002  370900\n",
       "2020-11-17  87.879997  89.550003  87.570000  88.839996  88.839996  309400\n",
       "2020-11-18  89.180000  90.690002  88.279999  88.309998  88.309998  334200\n",
       "2020-11-19  87.820000  88.550003  87.250000  88.489998  88.489998  166300\n",
       "2020-11-20  87.980003  88.570000  87.160004  88.309998  88.309998  196500\n",
       "\n",
       "[478 rows x 6 columns]"
      ]
     },
     "execution_count": 27,
     "metadata": {},
     "output_type": "execute_result"
    }
   ],
   "source": [
    "evr = pd.read_csv(\"/Users/tereza/Downloads/sos/EVR.csv\", index_col='Date')\n",
    "evr"
   ]
  },
  {
   "cell_type": "code",
   "execution_count": 29,
   "id": "0cfdba03",
   "metadata": {},
   "outputs": [
    {
     "data": {
      "text/html": [
       "<div>\n",
       "<style scoped>\n",
       "    .dataframe tbody tr th:only-of-type {\n",
       "        vertical-align: middle;\n",
       "    }\n",
       "\n",
       "    .dataframe tbody tr th {\n",
       "        vertical-align: top;\n",
       "    }\n",
       "\n",
       "    .dataframe thead th {\n",
       "        text-align: right;\n",
       "    }\n",
       "</style>\n",
       "<table border=\"1\" class=\"dataframe\">\n",
       "  <thead>\n",
       "    <tr style=\"text-align: right;\">\n",
       "      <th></th>\n",
       "      <th>Open</th>\n",
       "      <th>High</th>\n",
       "      <th>Low</th>\n",
       "      <th>Close</th>\n",
       "      <th>Adj Close</th>\n",
       "      <th>Volume</th>\n",
       "    </tr>\n",
       "    <tr>\n",
       "      <th>Date</th>\n",
       "      <th></th>\n",
       "      <th></th>\n",
       "      <th></th>\n",
       "      <th></th>\n",
       "      <th></th>\n",
       "      <th></th>\n",
       "    </tr>\n",
       "  </thead>\n",
       "  <tbody>\n",
       "    <tr>\n",
       "      <th>2019-01-02</th>\n",
       "      <td>24.680000</td>\n",
       "      <td>24.750000</td>\n",
       "      <td>24.68</td>\n",
       "      <td>24.709999</td>\n",
       "      <td>23.635632</td>\n",
       "      <td>89800</td>\n",
       "    </tr>\n",
       "    <tr>\n",
       "      <th>2019-01-03</th>\n",
       "      <td>24.690001</td>\n",
       "      <td>24.740000</td>\n",
       "      <td>24.68</td>\n",
       "      <td>24.680000</td>\n",
       "      <td>23.606937</td>\n",
       "      <td>175700</td>\n",
       "    </tr>\n",
       "    <tr>\n",
       "      <th>2019-01-04</th>\n",
       "      <td>24.650000</td>\n",
       "      <td>24.709999</td>\n",
       "      <td>24.65</td>\n",
       "      <td>24.709999</td>\n",
       "      <td>23.635632</td>\n",
       "      <td>473800</td>\n",
       "    </tr>\n",
       "    <tr>\n",
       "      <th>2019-01-07</th>\n",
       "      <td>24.670000</td>\n",
       "      <td>24.709999</td>\n",
       "      <td>24.67</td>\n",
       "      <td>24.709999</td>\n",
       "      <td>23.635632</td>\n",
       "      <td>85800</td>\n",
       "    </tr>\n",
       "    <tr>\n",
       "      <th>2019-01-08</th>\n",
       "      <td>24.670000</td>\n",
       "      <td>24.719999</td>\n",
       "      <td>24.67</td>\n",
       "      <td>24.709999</td>\n",
       "      <td>23.635632</td>\n",
       "      <td>114500</td>\n",
       "    </tr>\n",
       "    <tr>\n",
       "      <th>...</th>\n",
       "      <td>...</td>\n",
       "      <td>...</td>\n",
       "      <td>...</td>\n",
       "      <td>...</td>\n",
       "      <td>...</td>\n",
       "      <td>...</td>\n",
       "    </tr>\n",
       "    <tr>\n",
       "      <th>2020-11-16</th>\n",
       "      <td>25.240000</td>\n",
       "      <td>25.250000</td>\n",
       "      <td>25.23</td>\n",
       "      <td>25.240000</td>\n",
       "      <td>25.240000</td>\n",
       "      <td>206700</td>\n",
       "    </tr>\n",
       "    <tr>\n",
       "      <th>2020-11-17</th>\n",
       "      <td>25.230000</td>\n",
       "      <td>25.270000</td>\n",
       "      <td>25.23</td>\n",
       "      <td>25.270000</td>\n",
       "      <td>25.270000</td>\n",
       "      <td>434900</td>\n",
       "    </tr>\n",
       "    <tr>\n",
       "      <th>2020-11-18</th>\n",
       "      <td>25.250000</td>\n",
       "      <td>25.270000</td>\n",
       "      <td>25.24</td>\n",
       "      <td>25.270000</td>\n",
       "      <td>25.270000</td>\n",
       "      <td>473100</td>\n",
       "    </tr>\n",
       "    <tr>\n",
       "      <th>2020-11-19</th>\n",
       "      <td>25.270000</td>\n",
       "      <td>25.290001</td>\n",
       "      <td>25.24</td>\n",
       "      <td>25.280001</td>\n",
       "      <td>25.280001</td>\n",
       "      <td>567600</td>\n",
       "    </tr>\n",
       "    <tr>\n",
       "      <th>2020-11-20</th>\n",
       "      <td>25.290001</td>\n",
       "      <td>25.290001</td>\n",
       "      <td>25.24</td>\n",
       "      <td>25.250000</td>\n",
       "      <td>25.250000</td>\n",
       "      <td>305600</td>\n",
       "    </tr>\n",
       "  </tbody>\n",
       "</table>\n",
       "<p>478 rows × 6 columns</p>\n",
       "</div>"
      ],
      "text/plain": [
       "                 Open       High    Low      Close  Adj Close  Volume\n",
       "Date                                                                 \n",
       "2019-01-02  24.680000  24.750000  24.68  24.709999  23.635632   89800\n",
       "2019-01-03  24.690001  24.740000  24.68  24.680000  23.606937  175700\n",
       "2019-01-04  24.650000  24.709999  24.65  24.709999  23.635632  473800\n",
       "2019-01-07  24.670000  24.709999  24.67  24.709999  23.635632   85800\n",
       "2019-01-08  24.670000  24.719999  24.67  24.709999  23.635632  114500\n",
       "...               ...        ...    ...        ...        ...     ...\n",
       "2020-11-16  25.240000  25.250000  25.23  25.240000  25.240000  206700\n",
       "2020-11-17  25.230000  25.270000  25.23  25.270000  25.270000  434900\n",
       "2020-11-18  25.250000  25.270000  25.24  25.270000  25.270000  473100\n",
       "2020-11-19  25.270000  25.290001  25.24  25.280001  25.280001  567600\n",
       "2020-11-20  25.290001  25.290001  25.24  25.250000  25.250000  305600\n",
       "\n",
       "[478 rows x 6 columns]"
      ]
     },
     "execution_count": 29,
     "metadata": {},
     "output_type": "execute_result"
    }
   ],
   "source": [
    "fltr = pd.read_csv(\"/Users/tereza/Downloads/sos/FLTR.csv\", index_col='Date')\n",
    "fltr"
   ]
  },
  {
   "cell_type": "code",
   "execution_count": 60,
   "id": "30108c6a",
   "metadata": {},
   "outputs": [
    {
     "data": {
      "text/html": [
       "<div>\n",
       "<style scoped>\n",
       "    .dataframe tbody tr th:only-of-type {\n",
       "        vertical-align: middle;\n",
       "    }\n",
       "\n",
       "    .dataframe tbody tr th {\n",
       "        vertical-align: top;\n",
       "    }\n",
       "\n",
       "    .dataframe thead th {\n",
       "        text-align: right;\n",
       "    }\n",
       "</style>\n",
       "<table border=\"1\" class=\"dataframe\">\n",
       "  <thead>\n",
       "    <tr style=\"text-align: right;\">\n",
       "      <th></th>\n",
       "      <th>Open</th>\n",
       "      <th>High</th>\n",
       "      <th>Low</th>\n",
       "      <th>Close</th>\n",
       "      <th>Adj Close</th>\n",
       "      <th>Volume</th>\n",
       "      <th>Balance</th>\n",
       "      <th>company</th>\n",
       "    </tr>\n",
       "    <tr>\n",
       "      <th>Date</th>\n",
       "      <th></th>\n",
       "      <th></th>\n",
       "      <th></th>\n",
       "      <th></th>\n",
       "      <th></th>\n",
       "      <th></th>\n",
       "      <th></th>\n",
       "      <th></th>\n",
       "    </tr>\n",
       "  </thead>\n",
       "  <tbody>\n",
       "    <tr>\n",
       "      <th>2019-01-02</th>\n",
       "      <td>70.110001</td>\n",
       "      <td>74.230003</td>\n",
       "      <td>69.980003</td>\n",
       "      <td>73.839996</td>\n",
       "      <td>69.908577</td>\n",
       "      <td>725100</td>\n",
       "      <td>-3.729996</td>\n",
       "      <td>EVR</td>\n",
       "    </tr>\n",
       "    <tr>\n",
       "      <th>2019-01-03</th>\n",
       "      <td>73.379997</td>\n",
       "      <td>75.589996</td>\n",
       "      <td>72.930000</td>\n",
       "      <td>73.669998</td>\n",
       "      <td>69.747620</td>\n",
       "      <td>790200</td>\n",
       "      <td>-0.290001</td>\n",
       "      <td>EVR</td>\n",
       "    </tr>\n",
       "    <tr>\n",
       "      <th>2019-01-04</th>\n",
       "      <td>74.800003</td>\n",
       "      <td>76.860001</td>\n",
       "      <td>74.599998</td>\n",
       "      <td>76.440002</td>\n",
       "      <td>72.370148</td>\n",
       "      <td>607900</td>\n",
       "      <td>-1.639999</td>\n",
       "      <td>EVR</td>\n",
       "    </tr>\n",
       "    <tr>\n",
       "      <th>2019-01-07</th>\n",
       "      <td>74.449997</td>\n",
       "      <td>76.260002</td>\n",
       "      <td>73.150002</td>\n",
       "      <td>75.010002</td>\n",
       "      <td>71.016281</td>\n",
       "      <td>783700</td>\n",
       "      <td>-0.560005</td>\n",
       "      <td>EVR</td>\n",
       "    </tr>\n",
       "    <tr>\n",
       "      <th>2019-01-08</th>\n",
       "      <td>76.500000</td>\n",
       "      <td>77.589996</td>\n",
       "      <td>74.889999</td>\n",
       "      <td>77.150002</td>\n",
       "      <td>73.042351</td>\n",
       "      <td>771300</td>\n",
       "      <td>-0.650002</td>\n",
       "      <td>EVR</td>\n",
       "    </tr>\n",
       "    <tr>\n",
       "      <th>...</th>\n",
       "      <td>...</td>\n",
       "      <td>...</td>\n",
       "      <td>...</td>\n",
       "      <td>...</td>\n",
       "      <td>...</td>\n",
       "      <td>...</td>\n",
       "      <td>...</td>\n",
       "      <td>...</td>\n",
       "    </tr>\n",
       "    <tr>\n",
       "      <th>2020-11-16</th>\n",
       "      <td>25.240000</td>\n",
       "      <td>25.250000</td>\n",
       "      <td>25.230000</td>\n",
       "      <td>25.240000</td>\n",
       "      <td>25.240000</td>\n",
       "      <td>206700</td>\n",
       "      <td>NaN</td>\n",
       "      <td>FLTR</td>\n",
       "    </tr>\n",
       "    <tr>\n",
       "      <th>2020-11-17</th>\n",
       "      <td>25.230000</td>\n",
       "      <td>25.270000</td>\n",
       "      <td>25.230000</td>\n",
       "      <td>25.270000</td>\n",
       "      <td>25.270000</td>\n",
       "      <td>434900</td>\n",
       "      <td>NaN</td>\n",
       "      <td>FLTR</td>\n",
       "    </tr>\n",
       "    <tr>\n",
       "      <th>2020-11-18</th>\n",
       "      <td>25.250000</td>\n",
       "      <td>25.270000</td>\n",
       "      <td>25.240000</td>\n",
       "      <td>25.270000</td>\n",
       "      <td>25.270000</td>\n",
       "      <td>473100</td>\n",
       "      <td>NaN</td>\n",
       "      <td>FLTR</td>\n",
       "    </tr>\n",
       "    <tr>\n",
       "      <th>2020-11-19</th>\n",
       "      <td>25.270000</td>\n",
       "      <td>25.290001</td>\n",
       "      <td>25.240000</td>\n",
       "      <td>25.280001</td>\n",
       "      <td>25.280001</td>\n",
       "      <td>567600</td>\n",
       "      <td>NaN</td>\n",
       "      <td>FLTR</td>\n",
       "    </tr>\n",
       "    <tr>\n",
       "      <th>2020-11-20</th>\n",
       "      <td>25.290001</td>\n",
       "      <td>25.290001</td>\n",
       "      <td>25.240000</td>\n",
       "      <td>25.250000</td>\n",
       "      <td>25.250000</td>\n",
       "      <td>305600</td>\n",
       "      <td>NaN</td>\n",
       "      <td>FLTR</td>\n",
       "    </tr>\n",
       "  </tbody>\n",
       "</table>\n",
       "<p>956 rows × 8 columns</p>\n",
       "</div>"
      ],
      "text/plain": [
       "                 Open       High        Low      Close  Adj Close  Volume  \\\n",
       "Date                                                                        \n",
       "2019-01-02  70.110001  74.230003  69.980003  73.839996  69.908577  725100   \n",
       "2019-01-03  73.379997  75.589996  72.930000  73.669998  69.747620  790200   \n",
       "2019-01-04  74.800003  76.860001  74.599998  76.440002  72.370148  607900   \n",
       "2019-01-07  74.449997  76.260002  73.150002  75.010002  71.016281  783700   \n",
       "2019-01-08  76.500000  77.589996  74.889999  77.150002  73.042351  771300   \n",
       "...               ...        ...        ...        ...        ...     ...   \n",
       "2020-11-16  25.240000  25.250000  25.230000  25.240000  25.240000  206700   \n",
       "2020-11-17  25.230000  25.270000  25.230000  25.270000  25.270000  434900   \n",
       "2020-11-18  25.250000  25.270000  25.240000  25.270000  25.270000  473100   \n",
       "2020-11-19  25.270000  25.290001  25.240000  25.280001  25.280001  567600   \n",
       "2020-11-20  25.290001  25.290001  25.240000  25.250000  25.250000  305600   \n",
       "\n",
       "             Balance company  \n",
       "Date                          \n",
       "2019-01-02 -3.729996     EVR  \n",
       "2019-01-03 -0.290001     EVR  \n",
       "2019-01-04 -1.639999     EVR  \n",
       "2019-01-07 -0.560005     EVR  \n",
       "2019-01-08 -0.650002     EVR  \n",
       "...              ...     ...  \n",
       "2020-11-16       NaN    FLTR  \n",
       "2020-11-17       NaN    FLTR  \n",
       "2020-11-18       NaN    FLTR  \n",
       "2020-11-19       NaN    FLTR  \n",
       "2020-11-20       NaN    FLTR  \n",
       "\n",
       "[956 rows x 8 columns]"
      ]
     },
     "execution_count": 60,
     "metadata": {},
     "output_type": "execute_result"
    }
   ],
   "source": [
    "evr[\"company\"] = \"EVR\"\n",
    "fltr[\"company\"] = \"FLTR\"\n",
    "companies = [evr, fltr]\n",
    "df = pd.concat(companies)\n",
    "df"
   ]
  },
  {
   "cell_type": "code",
   "execution_count": 61,
   "id": "003c65a3",
   "metadata": {},
   "outputs": [
    {
     "name": "stdout",
     "output_type": "stream",
     "text": [
      "<bound method DataFrame.info of                  Open       High        Low      Close  Adj Close  Volume  \\\n",
      "Date                                                                        \n",
      "2019-01-02  70.110001  74.230003  69.980003  73.839996  69.908577  725100   \n",
      "2019-01-03  73.379997  75.589996  72.930000  73.669998  69.747620  790200   \n",
      "2019-01-04  74.800003  76.860001  74.599998  76.440002  72.370148  607900   \n",
      "2019-01-07  74.449997  76.260002  73.150002  75.010002  71.016281  783700   \n",
      "2019-01-08  76.500000  77.589996  74.889999  77.150002  73.042351  771300   \n",
      "...               ...        ...        ...        ...        ...     ...   \n",
      "2020-11-16  25.240000  25.250000  25.230000  25.240000  25.240000  206700   \n",
      "2020-11-17  25.230000  25.270000  25.230000  25.270000  25.270000  434900   \n",
      "2020-11-18  25.250000  25.270000  25.240000  25.270000  25.270000  473100   \n",
      "2020-11-19  25.270000  25.290001  25.240000  25.280001  25.280001  567600   \n",
      "2020-11-20  25.290001  25.290001  25.240000  25.250000  25.250000  305600   \n",
      "\n",
      "             Balance company  \n",
      "Date                          \n",
      "2019-01-02 -3.729996     EVR  \n",
      "2019-01-03 -0.290001     EVR  \n",
      "2019-01-04 -1.639999     EVR  \n",
      "2019-01-07 -0.560005     EVR  \n",
      "2019-01-08 -0.650002     EVR  \n",
      "...              ...     ...  \n",
      "2020-11-16       NaN    FLTR  \n",
      "2020-11-17       NaN    FLTR  \n",
      "2020-11-18       NaN    FLTR  \n",
      "2020-11-19       NaN    FLTR  \n",
      "2020-11-20       NaN    FLTR  \n",
      "\n",
      "[956 rows x 8 columns]>\n",
      "Index(['Open', 'High', 'Low', 'Close', 'Adj Close', 'Volume', 'Balance',\n",
      "       'company'],\n",
      "      dtype='object')\n"
     ]
    }
   ],
   "source": [
    "print(df.info)\n",
    "print(df.columns)\n",
    "#we see beginning and end of dataset- time series are within from 2019-01-02 to 2020-11-20"
   ]
  },
  {
   "cell_type": "code",
   "execution_count": 62,
   "id": "1ca6515c",
   "metadata": {},
   "outputs": [
    {
     "data": {
      "text/plain": [
       "Open           0\n",
       "High           0\n",
       "Low            0\n",
       "Close          0\n",
       "Adj Close      0\n",
       "Volume         0\n",
       "Balance      478\n",
       "company        0\n",
       "dtype: int64"
      ]
     },
     "execution_count": 62,
     "metadata": {},
     "output_type": "execute_result"
    }
   ],
   "source": [
    "df.isna().any\n",
    "df.isna().sum()\n",
    "#we have no missing values"
   ]
  },
  {
   "cell_type": "code",
   "execution_count": 64,
   "id": "a501e684",
   "metadata": {},
   "outputs": [
    {
     "name": "stdout",
     "output_type": "stream",
     "text": [
      "                 Open       High        Low      Close  Adj Close  Volume  \\\n",
      "Date                                                                        \n",
      "2019-04-29  97.330002  98.900002  96.800003  98.019997  93.306076  344400   \n",
      "\n",
      "             Balance company  \n",
      "Date                          \n",
      "2019-04-29 -0.689995     EVR  \n"
     ]
    }
   ],
   "source": [
    "print(df[df[\"High\"]==df[\"High\"].max()])\n",
    "#highest number of shares traded- 2019-04-29"
   ]
  },
  {
   "cell_type": "code",
   "execution_count": 65,
   "id": "b427c20b",
   "metadata": {},
   "outputs": [
    {
     "name": "stdout",
     "output_type": "stream",
     "text": [
      "                 Open   High        Low  Close  Adj Close  Volume   Balance  \\\n",
      "Date                                                                          \n",
      "2019-08-01  86.199997  86.43  81.709999   82.0  78.624329  437300  4.199997   \n",
      "\n",
      "           company  \n",
      "Date                \n",
      "2019-08-01     EVR  \n",
      "             Open   High        Low      Close  Adj Close  Volume   Balance  \\\n",
      "Date                                                                          \n",
      "2020-03-24  38.43  43.91  38.029999  43.790001  42.970345  962200 -5.360001   \n",
      "\n",
      "           company  \n",
      "Date                \n",
      "2020-03-24     EVR  \n"
     ]
    }
   ],
   "source": [
    "#When did the company record the highest gain and highest loss for the day? (logarithmic loss)\n",
    "df[\"Balance\"] = df[\"Open\"]-df[\"Close\"]\n",
    "print(df[df[\"Balance\"]==df[\"Balance\"].max()])\n",
    "print(df[df[\"Balance\"]==df[\"Balance\"].min()])\n",
    "#highest gain- 2020-03-24\n",
    "#highest loss- 2019-08-01"
   ]
  },
  {
   "cell_type": "code",
   "execution_count": 67,
   "id": "1fa86f40",
   "metadata": {},
   "outputs": [
    {
     "name": "stdout",
     "output_type": "stream",
     "text": [
      "93.30607604980467\n",
      "20.667774200439453\n"
     ]
    }
   ],
   "source": [
    "print(df[\"Adj Close\"].max())\n",
    "print(df[\"Adj Close\"].min())\n",
    "#highest Adj Close price the company recorded-93.30607604980467\n",
    "#lowest Adj Close price the company recorded-20.667774200439453"
   ]
  },
  {
   "cell_type": "code",
   "execution_count": 68,
   "id": "a10e3c6f",
   "metadata": {},
   "outputs": [
    {
     "name": "stdout",
     "output_type": "stream",
     "text": [
      "301890900\n"
     ]
    }
   ],
   "source": [
    "#What is the sum of shares traded in your sample?\n",
    "print(df[\"Volume\"].sum())\n",
    "#Volume sum- 301890900"
   ]
  },
  {
   "cell_type": "code",
   "execution_count": null,
   "id": "1bf66180",
   "metadata": {},
   "outputs": [],
   "source": [
    "#What is the average volume in a week?\n",
    "from datetime import datetime\n"
   ]
  },
  {
   "cell_type": "code",
   "execution_count": 79,
   "id": "2b339a18",
   "metadata": {},
   "outputs": [
    {
     "data": {
      "image/png": "[encoded data removed]",
      "text/plain": [
       "<Figure size 432x288 with 1 Axes>"
      ]
     },
     "metadata": {
      "needs_background": "light"
     },
     "output_type": "display_data"
    }
   ],
   "source": [
    "#For the company with the highest volume of shares traded over the whole period, plot their share price over time\n",
    "df.groupby(\"company\").sum()\n",
    "#EVR has higher volume of shares, so plotting for EVR:\n",
    "evr_shares = df[df[\"company\"]== \"EVR\"]\n",
    "evr_shares\n",
    "evr_shares.plot(y=\"Adj Close\", kind=\"line\")\n",
    "plt.show()"
   ]
  },
  {
   "cell_type": "code",
   "execution_count": 106,
   "id": "2d8d2086",
   "metadata": {},
   "outputs": [
    {
     "name": "stdout",
     "output_type": "stream",
     "text": [
      "company\n",
      "EVR    4.199997\n",
      "Name: Balance, dtype: float64\n",
      "company\n",
      "EVR    5.360001\n",
      "Name: Balance, dtype: float64\n",
      "             Open   High        Low      Close  Adj Close  Volume   Balance  \\\n",
      "Date                                                                          \n",
      "2020-03-24  38.43  43.91  38.029999  43.790001  42.970345  962200 -5.360001   \n",
      "\n",
      "           company  \n",
      "Date                \n",
      "2020-03-24     EVR  \n"
     ]
    }
   ],
   "source": [
    "#Plot the log returns for the company that has the largest difference between opening and closing price. \n",
    "y = df.groupby(\"company\").max()[\"Balance\"]\n",
    "x = df.groupby(\"company\").min()[\"Balance\"] \n",
    "print(y[y==y.max()])\n",
    "print((-1) * x[x==x.min()])\n",
    "#EVR has highest difference\n",
    "print(df[df[\"Balance\"]==df[\"Balance\"].min()])\n",
    "##What day and what company did it occur at? EVR on 2020-03-24 "
   ]
  },
  {
   "cell_type": "code",
   "execution_count": 113,
   "id": "e0b2a553",
   "metadata": {},
   "outputs": [
    {
     "ename": "AttributeError",
     "evalue": "'DataFrame' object has no attribute 'Index'",
     "output_type": "error",
     "traceback": [
      "\u001b[0;31m---------------------------------------------------------------------------\u001b[0m",
      "\u001b[0;31mAttributeError\u001b[0m                            Traceback (most recent call last)",
      "\u001b[0;32m/var/folders/7s/qrpwt3791sb5vy5dcnx2b5vc0000gn/T/ipykernel_72462/1886206657.py\u001b[0m in \u001b[0;36m<module>\u001b[0;34m\u001b[0m\n\u001b[1;32m      1\u001b[0m \u001b[0;31m#Find monthly returns. Which company has the highest recorded?\u001b[0m\u001b[0;34m\u001b[0m\u001b[0;34m\u001b[0m\u001b[0m\n\u001b[1;32m      2\u001b[0m \u001b[0;32mimport\u001b[0m \u001b[0mdatetime\u001b[0m\u001b[0;34m\u001b[0m\u001b[0;34m\u001b[0m\u001b[0m\n\u001b[0;32m----> 3\u001b[0;31m \u001b[0mdf\u001b[0m\u001b[0;34m[\u001b[0m\u001b[0;34m\"month\"\u001b[0m\u001b[0;34m]\u001b[0m\u001b[0;34m=\u001b[0m \u001b[0mdf\u001b[0m\u001b[0;34m.\u001b[0m\u001b[0mIndex\u001b[0m\u001b[0;34m.\u001b[0m\u001b[0marray\u001b[0m\u001b[0;34m.\u001b[0m\u001b[0mdt\u001b[0m\u001b[0;34m.\u001b[0m\u001b[0mmonth\u001b[0m\u001b[0;34m\u001b[0m\u001b[0;34m\u001b[0m\u001b[0m\n\u001b[0m",
      "\u001b[0;32m~/anaconda3/lib/python3.9/site-packages/pandas/core/generic.py\u001b[0m in \u001b[0;36m__getattr__\u001b[0;34m(self, name)\u001b[0m\n\u001b[1;32m   5485\u001b[0m         ):\n\u001b[1;32m   5486\u001b[0m             \u001b[0;32mreturn\u001b[0m \u001b[0mself\u001b[0m\u001b[0;34m[\u001b[0m\u001b[0mname\u001b[0m\u001b[0;34m]\u001b[0m\u001b[0;34m\u001b[0m\u001b[0;34m\u001b[0m\u001b[0m\n\u001b[0;32m-> 5487\u001b[0;31m         \u001b[0;32mreturn\u001b[0m \u001b[0mobject\u001b[0m\u001b[0;34m.\u001b[0m\u001b[0m__getattribute__\u001b[0m\u001b[0;34m(\u001b[0m\u001b[0mself\u001b[0m\u001b[0;34m,\u001b[0m \u001b[0mname\u001b[0m\u001b[0;34m)\u001b[0m\u001b[0;34m\u001b[0m\u001b[0;34m\u001b[0m\u001b[0m\n\u001b[0m\u001b[1;32m   5488\u001b[0m \u001b[0;34m\u001b[0m\u001b[0m\n\u001b[1;32m   5489\u001b[0m     \u001b[0;32mdef\u001b[0m \u001b[0m__setattr__\u001b[0m\u001b[0;34m(\u001b[0m\u001b[0mself\u001b[0m\u001b[0;34m,\u001b[0m \u001b[0mname\u001b[0m\u001b[0;34m:\u001b[0m \u001b[0mstr\u001b[0m\u001b[0;34m,\u001b[0m \u001b[0mvalue\u001b[0m\u001b[0;34m)\u001b[0m \u001b[0;34m->\u001b[0m \u001b[0;32mNone\u001b[0m\u001b[0;34m:\u001b[0m\u001b[0;34m\u001b[0m\u001b[0;34m\u001b[0m\u001b[0m\n",
      "\u001b[0;31mAttributeError\u001b[0m: 'DataFrame' object has no attribute 'Index'"
     ]
    }
   ],
   "source": [
    "#Find monthly returns. Which company has the highest recorded?\n",
    "import datetime\n",
    "df[\"month\"]= df[0].dt.month\n",
    "x= df.groupby[\"month\"].avg()\n",
    "print(x[x=x.max()]"
   ]
  },
  {
   "cell_type": "code",
   "execution_count": 33,
   "id": "58eb3fe8",
   "metadata": {},
   "outputs": [
    {
     "ename": "KeyError",
     "evalue": "'Date'",
     "output_type": "error",
     "traceback": [
      "\u001b[0;31m---------------------------------------------------------------------------\u001b[0m",
      "\u001b[0;31mKeyError\u001b[0m                                  Traceback (most recent call last)",
      "\u001b[0;32m~/anaconda3/lib/python3.9/site-packages/pandas/core/indexes/base.py\u001b[0m in \u001b[0;36mget_loc\u001b[0;34m(self, key, method, tolerance)\u001b[0m\n\u001b[1;32m   3360\u001b[0m             \u001b[0;32mtry\u001b[0m\u001b[0;34m:\u001b[0m\u001b[0;34m\u001b[0m\u001b[0;34m\u001b[0m\u001b[0m\n\u001b[0;32m-> 3361\u001b[0;31m                 \u001b[0;32mreturn\u001b[0m \u001b[0mself\u001b[0m\u001b[0;34m.\u001b[0m\u001b[0m_engine\u001b[0m\u001b[0;34m.\u001b[0m\u001b[0mget_loc\u001b[0m\u001b[0;34m(\u001b[0m\u001b[0mcasted_key\u001b[0m\u001b[0;34m)\u001b[0m\u001b[0;34m\u001b[0m\u001b[0;34m\u001b[0m\u001b[0m\n\u001b[0m\u001b[1;32m   3362\u001b[0m             \u001b[0;32mexcept\u001b[0m \u001b[0mKeyError\u001b[0m \u001b[0;32mas\u001b[0m \u001b[0merr\u001b[0m\u001b[0;34m:\u001b[0m\u001b[0;34m\u001b[0m\u001b[0;34m\u001b[0m\u001b[0m\n",
      "\u001b[0;32m~/anaconda3/lib/python3.9/site-packages/pandas/_libs/index.pyx\u001b[0m in \u001b[0;36mpandas._libs.index.IndexEngine.get_loc\u001b[0;34m()\u001b[0m\n",
      "\u001b[0;32m~/anaconda3/lib/python3.9/site-packages/pandas/_libs/index.pyx\u001b[0m in \u001b[0;36mpandas._libs.index.IndexEngine.get_loc\u001b[0;34m()\u001b[0m\n",
      "\u001b[0;32mpandas/_libs/hashtable_class_helper.pxi\u001b[0m in \u001b[0;36mpandas._libs.hashtable.PyObjectHashTable.get_item\u001b[0;34m()\u001b[0m\n",
      "\u001b[0;32mpandas/_libs/hashtable_class_helper.pxi\u001b[0m in \u001b[0;36mpandas._libs.hashtable.PyObjectHashTable.get_item\u001b[0;34m()\u001b[0m\n",
      "\u001b[0;31mKeyError\u001b[0m: 'Date'",
      "\nThe above exception was the direct cause of the following exception:\n",
      "\u001b[0;31mKeyError\u001b[0m                                  Traceback (most recent call last)",
      "\u001b[0;32m/var/folders/7s/qrpwt3791sb5vy5dcnx2b5vc0000gn/T/ipykernel_72462/1325061732.py\u001b[0m in \u001b[0;36m<module>\u001b[0;34m\u001b[0m\n\u001b[0;32m----> 1\u001b[0;31m \u001b[0mprint\u001b[0m\u001b[0;34m(\u001b[0m\u001b[0mevr\u001b[0m\u001b[0;34m[\u001b[0m\u001b[0;34m\"Date\"\u001b[0m\u001b[0;34m]\u001b[0m\u001b[0;34m.\u001b[0m\u001b[0mtype\u001b[0m\u001b[0;34m(\u001b[0m\u001b[0;34m)\u001b[0m\u001b[0;34m)\u001b[0m\u001b[0;34m\u001b[0m\u001b[0;34m\u001b[0m\u001b[0m\n\u001b[0m",
      "\u001b[0;32m~/anaconda3/lib/python3.9/site-packages/pandas/core/frame.py\u001b[0m in \u001b[0;36m__getitem__\u001b[0;34m(self, key)\u001b[0m\n\u001b[1;32m   3456\u001b[0m             \u001b[0;32mif\u001b[0m \u001b[0mself\u001b[0m\u001b[0;34m.\u001b[0m\u001b[0mcolumns\u001b[0m\u001b[0;34m.\u001b[0m\u001b[0mnlevels\u001b[0m \u001b[0;34m>\u001b[0m \u001b[0;36m1\u001b[0m\u001b[0;34m:\u001b[0m\u001b[0;34m\u001b[0m\u001b[0;34m\u001b[0m\u001b[0m\n\u001b[1;32m   3457\u001b[0m                 \u001b[0;32mreturn\u001b[0m \u001b[0mself\u001b[0m\u001b[0;34m.\u001b[0m\u001b[0m_getitem_multilevel\u001b[0m\u001b[0;34m(\u001b[0m\u001b[0mkey\u001b[0m\u001b[0;34m)\u001b[0m\u001b[0;34m\u001b[0m\u001b[0;34m\u001b[0m\u001b[0m\n\u001b[0;32m-> 3458\u001b[0;31m             \u001b[0mindexer\u001b[0m \u001b[0;34m=\u001b[0m \u001b[0mself\u001b[0m\u001b[0;34m.\u001b[0m\u001b[0mcolumns\u001b[0m\u001b[0;34m.\u001b[0m\u001b[0mget_loc\u001b[0m\u001b[0;34m(\u001b[0m\u001b[0mkey\u001b[0m\u001b[0;34m)\u001b[0m\u001b[0;34m\u001b[0m\u001b[0;34m\u001b[0m\u001b[0m\n\u001b[0m\u001b[1;32m   3459\u001b[0m             \u001b[0;32mif\u001b[0m \u001b[0mis_integer\u001b[0m\u001b[0;34m(\u001b[0m\u001b[0mindexer\u001b[0m\u001b[0;34m)\u001b[0m\u001b[0;34m:\u001b[0m\u001b[0;34m\u001b[0m\u001b[0;34m\u001b[0m\u001b[0m\n\u001b[1;32m   3460\u001b[0m                 \u001b[0mindexer\u001b[0m \u001b[0;34m=\u001b[0m \u001b[0;34m[\u001b[0m\u001b[0mindexer\u001b[0m\u001b[0;34m]\u001b[0m\u001b[0;34m\u001b[0m\u001b[0;34m\u001b[0m\u001b[0m\n",
      "\u001b[0;32m~/anaconda3/lib/python3.9/site-packages/pandas/core/indexes/base.py\u001b[0m in \u001b[0;36mget_loc\u001b[0;34m(self, key, method, tolerance)\u001b[0m\n\u001b[1;32m   3361\u001b[0m                 \u001b[0;32mreturn\u001b[0m \u001b[0mself\u001b[0m\u001b[0;34m.\u001b[0m\u001b[0m_engine\u001b[0m\u001b[0;34m.\u001b[0m\u001b[0mget_loc\u001b[0m\u001b[0;34m(\u001b[0m\u001b[0mcasted_key\u001b[0m\u001b[0;34m)\u001b[0m\u001b[0;34m\u001b[0m\u001b[0;34m\u001b[0m\u001b[0m\n\u001b[1;32m   3362\u001b[0m             \u001b[0;32mexcept\u001b[0m \u001b[0mKeyError\u001b[0m \u001b[0;32mas\u001b[0m \u001b[0merr\u001b[0m\u001b[0;34m:\u001b[0m\u001b[0;34m\u001b[0m\u001b[0;34m\u001b[0m\u001b[0m\n\u001b[0;32m-> 3363\u001b[0;31m                 \u001b[0;32mraise\u001b[0m \u001b[0mKeyError\u001b[0m\u001b[0;34m(\u001b[0m\u001b[0mkey\u001b[0m\u001b[0;34m)\u001b[0m \u001b[0;32mfrom\u001b[0m \u001b[0merr\u001b[0m\u001b[0;34m\u001b[0m\u001b[0;34m\u001b[0m\u001b[0m\n\u001b[0m\u001b[1;32m   3364\u001b[0m \u001b[0;34m\u001b[0m\u001b[0m\n\u001b[1;32m   3365\u001b[0m         \u001b[0;32mif\u001b[0m \u001b[0mis_scalar\u001b[0m\u001b[0;34m(\u001b[0m\u001b[0mkey\u001b[0m\u001b[0;34m)\u001b[0m \u001b[0;32mand\u001b[0m \u001b[0misna\u001b[0m\u001b[0;34m(\u001b[0m\u001b[0mkey\u001b[0m\u001b[0;34m)\u001b[0m \u001b[0;32mand\u001b[0m \u001b[0;32mnot\u001b[0m \u001b[0mself\u001b[0m\u001b[0;34m.\u001b[0m\u001b[0mhasnans\u001b[0m\u001b[0;34m:\u001b[0m\u001b[0;34m\u001b[0m\u001b[0;34m\u001b[0m\u001b[0m\n",
      "\u001b[0;31mKeyError\u001b[0m: 'Date'"
     ]
    }
   ],
   "source": []
  }
 ],
 "metadata": {
  "kernelspec": {
   "display_name": "Python 3 (ipykernel)",
   "language": "python",
   "name": "python3"
  },
  "language_info": {
   "codemirror_mode": {
    "name": "ipython",
    "version": 3
   },
   "file_extension": ".py",
   "mimetype": "text/x-python",
   "name": "python",
   "nbconvert_exporter": "python",
   "pygments_lexer": "ipython3",
   "version": "3.9.7"
  }
 },
 "nbformat": 4,
 "nbformat_minor": 5
}
